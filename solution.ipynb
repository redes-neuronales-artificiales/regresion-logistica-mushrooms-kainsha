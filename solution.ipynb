{
 "cells": [
  {
   "cell_type": "code",
   "execution_count": 43,
   "metadata": {},
   "outputs": [],
   "source": [
    "import pandas as pd\n",
    "\n",
    "\n",
    "def pregunta_01():\n",
    "    \"\"\"\n",
    "    En esta función se realiza la carga de datos.\n",
    "    \"\"\"\n",
    "    # Lea el archivo `mushrooms.csv` y asignelo al DataFrame `df`\n",
    "    df = pd.read_csv(\"mushrooms.csv\")\n",
    "\n",
    "    # Remueva la columna `veil-type` del DataFrame `df`.\n",
    "    # Esta columna tiene un valor constante y no sirve para la detección de hongos.\n",
    "    df = df.drop(\"veil_type\", axis=1)\n",
    "\n",
    "    # Asigne la columna `type` a la variable `y`.\n",
    "    y = df.type\n",
    "\n",
    "    # Asigne una copia del dataframe `df` a la variable `X`.\n",
    "    X = df.copy(deep = True)\n",
    "\n",
    "    # Remueva la columna `type` del DataFrame `X`.\n",
    "    X = X.drop(\"type\", axis=1)\n",
    "\n",
    "    # Retorne `X` y `y`\n",
    "    return X, y\n",
    "\n",
    "def pregunta_02():\n",
    "    \"\"\"\n",
    "    Preparación del dataset.\n",
    "    \"\"\"\n",
    "\n",
    "    # Importe train_test_split\n",
    "    from sklearn.model_selection import train_test_split\n",
    "\n",
    "    # Cargue los datos de ejemplo y asigne los resultados a `X` y `y`.\n",
    "    X, y = pregunta_01()\n",
    "\n",
    "    # Divida los datos de entrenamiento y prueba. La semilla del generador de números\n",
    "    # aleatorios es 123. Use 50 patrones para la muestra de prueba.\n",
    "    (X_train, X_test, y_train, y_test,) = train_test_split(\n",
    "        X,\n",
    "        y,\n",
    "        test_size=50,\n",
    "        random_state=123,\n",
    "    )\n",
    "\n",
    "    # Retorne `X_train`, `X_test`, `y_train` y `y_test`\n",
    "    return X_train, X_test, y_train, y_test\n",
    "\n",
    "def pregunta_03():\n",
    "    \"\"\"\n",
    "    Especificación y entrenamiento del modelo. En sklearn, el modelo de regresión\n",
    "    logística (a diferencia del modelo implementado normalmente en estadística) tiene\n",
    "    un hiperparámetro de regularición llamado `Cs`. Consulte la documentación.\n",
    "\n",
    "    Para encontrar el valor óptimo de Cs se puede usar LogisticRegressionCV.\n",
    "\n",
    "    Ya que las variables explicativas son literales, resulta más conveniente usar un\n",
    "    pipeline.\n",
    "    \"\"\"\n",
    "\n",
    "    # Importe LogisticRegressionCV\n",
    "    # Importe OneHotEncoder\n",
    "    # Importe Pipeline\n",
    "    from sklearn.linear_model import LogisticRegressionCV\n",
    "    from sklearn.preprocessing import OneHotEncoder\n",
    "    from sklearn.pipeline import Pipeline\n",
    "\n",
    "    # Cargue las variables.\n",
    "    X_train, _, y_train, _ = pregunta_02()\n",
    "\n",
    "    # Cree un pipeline que contenga un estimador OneHotEncoder y un estimador\n",
    "    # LogisticRegression con una regularización Cs=10\n",
    "    pipeline = Pipeline(\n",
    "        steps=[\n",
    "            (\"OneHotEncoder\", OneHotEncoder()),\n",
    "            (\"LogisticRegression\", LogisticRegressionCV(Cs=10)),\n",
    "        ],\n",
    "    )\n",
    "\n",
    "    # Entrene el pipeline con los datos de entrenamiento.\n",
    "    pipeline.fit(X_train, y_train)\n",
    "\n",
    "    # Retorne el pipeline entrenado\n",
    "    return pipeline"
   ]
  },
  {
   "cell_type": "code",
   "execution_count": 45,
   "metadata": {},
   "outputs": [],
   "source": [
    "\"\"\"\n",
    "Evalue el modelo obtenido.\n",
    "\"\"\"\n",
    "\n",
    "# Importe confusion_matrix\n",
    "from sklearn.metrics import confusion_matrix\n",
    "\n",
    "# Obtenga el pipeline de la pregunta 3.\n",
    "pipeline = pregunta_03()\n",
    "\n",
    "# Cargue las variables.\n",
    "X_train, X_test, y_train, y_test = pregunta_02()"
   ]
  },
  {
   "cell_type": "code",
   "execution_count": 49,
   "metadata": {},
   "outputs": [
    {
     "data": {
      "text/plain": [
       "array(['e', 'e', 'p', ..., 'p', 'e', 'e'], dtype=object)"
      ]
     },
     "execution_count": 49,
     "metadata": {},
     "output_type": "execute_result"
    }
   ],
   "source": [
    "pipeline.predict(X_train)"
   ]
  },
  {
   "cell_type": "code",
   "execution_count": 50,
   "metadata": {},
   "outputs": [],
   "source": [
    "# Evalúe el pipeline con los datos de entrenamiento usando la matriz de confusion.\n",
    "cfm_train = confusion_matrix(\n",
    "    y_true=y_train,\n",
    "    y_pred=pipeline.predict(X_train),\n",
    ")"
   ]
  },
  {
   "cell_type": "code",
   "execution_count": 51,
   "metadata": {},
   "outputs": [
    {
     "ename": "SyntaxError",
     "evalue": "'return' outside function (<ipython-input-51-2fa8b6b43155>, line 7)",
     "output_type": "error",
     "traceback": [
      "\u001b[1;36m  File \u001b[1;32m\"<ipython-input-51-2fa8b6b43155>\"\u001b[1;36m, line \u001b[1;32m7\u001b[0m\n\u001b[1;33m    return cfm_train, cfm_test\u001b[0m\n\u001b[1;37m    ^\u001b[0m\n\u001b[1;31mSyntaxError\u001b[0m\u001b[1;31m:\u001b[0m 'return' outside function\n"
     ]
    }
   ],
   "source": [
    "cfm_test = confusion_matrix(\n",
    "    y_true=y_test,\n",
    "    y_pred=pipeline.predict(X_test),\n",
    ")\n",
    "\n",
    "# Retorne la matriz de confusion de entrenamiento y prueba\n",
    "return cfm_train, cfm_test"
   ]
  },
  {
   "cell_type": "code",
   "execution_count": null,
   "metadata": {},
   "outputs": [],
   "source": [
    "def pregunta_04():\n",
    "    \"\"\"\n",
    "    Evalue el modelo obtenido.\n",
    "    \"\"\"\n",
    "\n",
    "    # Importe confusion_matrix\n",
    "    from sklearn.metrics import confusion_matrix\n",
    "    \n",
    "    # Obtenga el pipeline de la pregunta 3.\n",
    "    pipeline = pregunta_03()\n",
    "\n",
    "    # Cargue las variables.\n",
    "    X_train, X_test, y_train, y_test = pregunta_02()\n",
    "\n",
    "    # Evalúe el pipeline con los datos de entrenamiento usando la matriz de confusion.\n",
    "    cfm_train = confusion_matrix(\n",
    "        y_true=y_train,\n",
    "        y_pred=pipeline.predict(X_train),\n",
    "    )\n",
    "\n",
    "    cfm_test = confusion_matrix(\n",
    "        y_true=y_test,\n",
    "        y_pred=pipeline.predict(X_test),\n",
    "    )\n",
    "\n",
    "    # Retorne la matriz de confusion de entrenamiento y prueba\n",
    "    return cfm_train, cfm_test\n"
   ]
  }
 ],
 "metadata": {
  "kernelspec": {
   "display_name": "Python 3",
   "language": "python",
   "name": "python3"
  },
  "language_info": {
   "codemirror_mode": {
    "name": "ipython",
    "version": 3
   },
   "file_extension": ".py",
   "mimetype": "text/x-python",
   "name": "python",
   "nbconvert_exporter": "python",
   "pygments_lexer": "ipython3",
   "version": "3.8.5"
  }
 },
 "nbformat": 4,
 "nbformat_minor": 4
}
